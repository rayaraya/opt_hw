{
 "cells": [
  {
   "cell_type": "markdown",
   "metadata": {},
   "source": [
    "# Домашнее задание 12\n",
    "\n",
    "(прислать до 02:00 13.02.2017)\n",
    "\n",
    "Домашнее задание выполняется в этом же Jupyter Notebook'e и присылается мне в Piazza через Private Post.\n",
    "Файл с Вашим решением должен называться ```Surname_HW#```, где вместо ```Surname``` Вы пишите свою фамилию латиницей, а вместо ```#``` - номер домашнего задания. \n",
    "Решение каждой задачи необходимо поместить после её условия.\n",
    "\n",
    "Пожалуйста, пишите свои решения чётко и понятно. \n",
    "При полном запуске Вашего решения (Kernel -> Restart & Run All) все ячейки должны выполняться без ошибок. \n",
    "Если возникает ошибка, то я сообщаю Вам об этом и жду исправленного решения, которое будет удовлетворять указанному требованию."
   ]
  },
  {
   "cell_type": "markdown",
   "metadata": {},
   "source": [
    "## Задача 1\n",
    "\n",
    "Выберите произвольную несимметричную относительно некоторой вертикальной оси унимодальную функцию и приведите не меньше 3-х итераций метода дихотомии и метода золотого сечения (руками, а не с помощью компьютера). Нарисуйте график выбранной функции с помощью библиотеки matplotlib.\n",
    "\n",
    "Убедитесь, что Вы выбрали уникальную функцию, которую не выбрал никто из Ваших одногруппников. Две функции считаются одинаковыми, если одну можно получить из другой параллельным переносом."
   ]
  },
  {
   "cell_type": "markdown",
   "metadata": {},
   "source": [
    "## Решение\n",
    "\n",
    "Рассмотрим функцию $f(x) = x^2(x^5-1)$,\n",
    "$x^* \\in [0,1],\\; f(0)=f(1)=0$ \n",
    "\n",
    "### Метод дихотомии\n",
    "\n",
    "$c = \\dfrac{a+b}{2}, \\;a = 0, b = 1$\n",
    "\n",
    "Далее: $y = \\dfrac{a+c}{2}, z = \\dfrac{c+b}{2}$\n",
    "\n",
    "1) $c = \\frac{1}{2}, \\;f(\\frac{1}{2}) = -0.21875$\n",
    "\n",
    "$y = \\frac{1}{4},\\; f(y) = -0.0624 > f(c)$\n",
    "\n",
    "$z = \\frac{3}{4},\\; f(z) = -0.429 < f(c) $, тогда $a = c, c = z$\n",
    "\n",
    "2) $c = \\frac{3}{4}, \\;f(c) = -0.429$\n",
    "\n",
    "$y =  \\frac{5}{8}, f(y) = -0.3534 > f(c)$\n",
    "\n",
    "$z = \\frac{7}{8}, f(z) = -0.3729 > f(c)$, тогда $a = y, b = z$\n",
    "\n",
    "3) $c = \\frac{3}{4}, \\;f(c) = -0.429$\n",
    "\n",
    "$y = \\frac{11}{16}, f(y) = -0.4 > f(c)$\n",
    "\n",
    "$z = \\frac{13}{16}, f(z) = -0.426 < f(c)$, тогда $a = c, c = z$\n",
    "\n",
    "То есть, $a = \\frac{3}{4} = 0.75, c = \\frac{13}{16} = 0.8125, b = \\frac{7}{8} = 0.875$ \n",
    "\n",
    "Из графика видно, что корень находится на отрезке $[\\frac{3}{4}, \\frac{7}{8}]$, значит, скорее всего, итерации проведены верно.\n",
    "\n",
    "\n",
    "### Метод золотого сечения \n",
    "\n",
    "$\\tau = \\dfrac{\\sqrt{5} + 1}{2}, \\dfrac{1}{\\tau} = 0.618$\n",
    "\n",
    "Далее $y = a + \\dfrac{(b - a) }{\\tau^2}$, $z = a + \\dfrac{(b - a)}{\\tau}$, в начале $a = 0, b = 1$.\n",
    "\n",
    "1)$y = 0.382, z = 0.618$\n",
    "\n",
    "$f(y) =-0.1447 > f(z) = -0.3475$, тогда $a = y, y = z, z = a + \\dfrac{(b - a)}{ \\tau}$\n",
    "\n",
    "2) $a = 0.382, y = 0.618, z = 0.763, b = 1$\n",
    "\n",
    "$f(y) =-0.3475 > f(z) =-0.432$, тогда  $a = y, y = z, z = a + \\dfrac{(b - a)}{\\tau}$\n",
    "\n",
    "3) $a = 0.618, y = 0.763, z = 0.854, b = 1$\n",
    "\n",
    "$f(y) = -0.431 <  f(z) = -0.398$, тогда $b = z, z = y, y = a + \\dfrac{(b - a)}{\\tau^2}$\n",
    "\n",
    "4) $b = 0.854, z = 0.763, y = 0.708$ ...\n",
    "\n",
    "Получаем, что корень находится в отрезке $[0.618, 0.854]$, т.е. $x = 0.736$, что также похоже на правду.\n"
   ]
  },
  {
   "cell_type": "code",
   "execution_count": 1,
   "metadata": {},
   "outputs": [
    {
     "data": {
      "text/plain": [
       "Text(0.5,1,'f(x) = x^2(x^5 -1)')"
      ]
     },
     "execution_count": 1,
     "metadata": {},
     "output_type": "execute_result"
    },
    {
     "data": {
      "image/png": "[encoded data removed]",
      "text/plain": [
       "<matplotlib.figure.Figure at 0x7f33c8af5c18>"
      ]
     },
     "metadata": {},
     "output_type": "display_data"
    }
   ],
   "source": [
    "%matplotlib inline\n",
    "import numpy as np\n",
    "import matplotlib.pyplot as plt\n",
    "\n",
    "f = lambda x: x**2*(x**5 - 1)\n",
    "a = 0\n",
    "b = 1\n",
    "\n",
    "plt.figure(figsize=(7,4))\n",
    "plt.plot(np.linspace(a,b), f(np.linspace(a,b)))\n",
    "plt.title(\"f(x) = x^2(x^5 -1)\", fontsize=12)"
   ]
  },
  {
   "cell_type": "markdown",
   "metadata": {},
   "source": [
    "## Задача 2\n",
    "\n",
    "Запустите метод дихотомии для функции $f(x) = -\\sin\\left(\\frac{2 \\pi}{\\frac{5}{16} + x}\\right)$ на интервале $[0,1]$ и $[0,4]$. Точкой минимума считайте середину итогового отрезка. Одинаковые ли точки минимума? Почему?"
   ]
  },
  {
   "cell_type": "markdown",
   "metadata": {},
   "source": [
    "## Решение"
   ]
  },
  {
   "cell_type": "code",
   "execution_count": 2,
   "metadata": {
    "collapsed": true
   },
   "outputs": [],
   "source": [
    "def binary_search(f, a, b, epsilon = 1e-5, callback=None):\n",
    "    c = (a + b) / 2.0\n",
    "    while abs(b - a) > epsilon:\n",
    "        y = (a + c) / 2.0\n",
    "        if f(y) <= f(c):\n",
    "            b = c\n",
    "            c = y\n",
    "        else:\n",
    "            z = (b + c) / 2.0\n",
    "            if f(c) <= f(z):\n",
    "                a = y\n",
    "                b = z\n",
    "            else:\n",
    "                a = c\n",
    "                c = z\n",
    "        if callback is not None:\n",
    "            callback(a, b)\n",
    "    return c"
   ]
  },
  {
   "cell_type": "code",
   "execution_count": 3,
   "metadata": {},
   "outputs": [
    {
     "name": "stdout",
     "output_type": "stream",
     "text": [
      "Получаем на отрезке [0,1]: 0.4875 и на отрезке [0,4]: 3.6875\n"
     ]
    }
   ],
   "source": [
    "f = lambda x: -np.sin(2*np.pi / (5/16.0 + x))\n",
    "\n",
    "print('Получаем на отрезке [0,1]: {0:.4f}'.format(binary_search(f, 0 , 1))\n",
    "      + ' и на отрезке [0,4]: {0:.4f}'.format(binary_search(f, 0 , 4)))"
   ]
  },
  {
   "cell_type": "code",
   "execution_count": 4,
   "metadata": {},
   "outputs": [
    {
     "data": {
      "text/plain": [
       "[<matplotlib.lines.Line2D at 0x7f33bd4e7c88>]"
      ]
     },
     "execution_count": 4,
     "metadata": {},
     "output_type": "execute_result"
    },
    {
     "data": {
      "image/png": "[encoded data removed]",
      "text/plain": [
       "<matplotlib.figure.Figure at 0x7f33c808bcf8>"
      ]
     },
     "metadata": {},
     "output_type": "display_data"
    }
   ],
   "source": [
    "a = 0\n",
    "b = 4\n",
    "plt.figure(figsize=(7,4))\n",
    "plt.plot(np.linspace(a,b), f(np.linspace(a,b)))"
   ]
  },
  {
   "cell_type": "markdown",
   "metadata": {},
   "source": [
    "Точки минимума не одинаковые. Это происходит потому, что у функции есть несколько локальных минимумов на отрезке $[0,4]$. Когда работает метод дихотомии, мы можем придти в различные минимумы, в зависимости от вида функции. Конкретно в нашем случае на $[0,4]$, при первой итерации сравнивая значения на левом и правом отрезке, в левом отрезке мы попадаем в максимум в точке $x = 1$ и далее работаем на правом участке с одним минимумом. "
   ]
  },
  {
   "cell_type": "markdown",
   "metadata": {},
   "source": [
    "## Задача 3\n",
    "\n",
    "Покажите, как свести задачу безусловной **целочисленной** оптимизации к задаче нелинейной условной оптимизации с **непрерывными** переменными. "
   ]
  },
  {
   "cell_type": "markdown",
   "metadata": {
    "collapsed": true
   },
   "source": [
    "## Решение\n",
    "\n",
    "Задачу можно записать в виде:\n",
    "\n",
    "$$min \\; f(x) \\;\\; s.t. \\;x \\in Q,  sin(\\pi x_i) = 0, i = 1\\dots n$$\n",
    "где Q - допустимое множество, n - размерность пространства "
   ]
  },
  {
   "cell_type": "markdown",
   "metadata": {},
   "source": [
    "## Задача 4*\n",
    "\n",
    "Реализуйте метод Фибоначчи (см. лекции) и сравните его сходимость с методом дихотомии и золотого сечения, как было показано на семинаре, то есть по времени и по числу итераций, необходимых для достижения заданной точности"
   ]
  },
  {
   "cell_type": "markdown",
   "metadata": {},
   "source": [
    "### Решение"
   ]
  },
  {
   "cell_type": "code",
   "execution_count": 5,
   "metadata": {
    "collapsed": true
   },
   "outputs": [],
   "source": [
    "#we will use dynamic programming for fibonacci numbers counting\n",
    "def fibonacci_numbers(a, b, epsilon):\n",
    "    N = 1\n",
    "    F = [1, 1]\n",
    "    L  = (b - a) / epsilon\n",
    "    \n",
    "    while F[N] <= L:\n",
    "        F.append(F[N] + F[N - 1])\n",
    "        N += 1\n",
    "    return F, N\n",
    "\n",
    "\n",
    "def fibonacci_search(f, a, b, epsilon = 1e-5, callback=None ):     \n",
    "    F, N = fibonacci_numbers(a, b, epsilon)\n",
    "    \n",
    "    y = a + (F[N - 2] / F[N]) *(b - a)\n",
    "    z = a + (F[N - 1] / F[N]) *(b - a)\n",
    "    \n",
    "    k = 1\n",
    "    while k < N - 2:\n",
    "        if f(y) > f(z):\n",
    "            a = y\n",
    "            y = z \n",
    "            z = a + (F[N - k - 1] / F[N - k]) * (b - a)\n",
    "        else:\n",
    "            b = z\n",
    "            z = y\n",
    "            y = a + (F[N - k - 2] / F[N - k]) * (b - a)\n",
    "        k += 1\n",
    "        if callback is not None:\n",
    "            callback(a, b)\n",
    "    return (a + b)/2\n",
    "    "
   ]
  },
  {
   "cell_type": "code",
   "execution_count": 6,
   "metadata": {},
   "outputs": [],
   "source": [
    "f1 = lambda x: np.sin(np.sin(np.sin(np.sqrt(x))))\n",
    "x1_true = (3 * np.pi / 2)**2\n",
    "f2 = lambda x: x**2*(x**5 - 1)\n",
    "x2_true = (2/7)**(1/5)\n",
    "a = 2\n",
    "b = 60\n",
    "c = 0\n",
    "d = 1\n",
    "epsilon = 1e-8"
   ]
  },
  {
   "cell_type": "code",
   "execution_count": 7,
   "metadata": {},
   "outputs": [
    {
     "name": "stdout",
     "output_type": "stream",
     "text": [
      "22.206613517363657 22.206609902451056\n"
     ]
    }
   ],
   "source": [
    "print (fibonacci_search(f1, a, b), x1_true)"
   ]
  },
  {
   "cell_type": "code",
   "execution_count": 8,
   "metadata": {},
   "outputs": [
    {
     "name": "stdout",
     "output_type": "stream",
     "text": [
      "0.7783686044500095 0.7783705415511708\n"
     ]
    }
   ],
   "source": [
    "print (fibonacci_search(f2, c, d), x2_true)"
   ]
  },
  {
   "cell_type": "code",
   "execution_count": 9,
   "metadata": {
    "collapsed": true
   },
   "outputs": [],
   "source": [
    "def golden_search(f, a, b, tol=1e-5, callback=None):\n",
    "    tau = (np.sqrt(5) + 1) / 2.0\n",
    "    y = a + (b - a) / tau**2\n",
    "    z = a + (b - a) / tau\n",
    "    while b - a > tol:\n",
    "        if f(y) <= f(z):\n",
    "            b = z\n",
    "            z = y\n",
    "            y = a + (b - a) / tau**2\n",
    "        else:\n",
    "            a = y\n",
    "            y = z\n",
    "            z = a + (b - a) / tau\n",
    "        if callback is not None:\n",
    "            callback(a, b)\n",
    "    return (a + b) / 2.0"
   ]
  },
  {
   "cell_type": "markdown",
   "metadata": {},
   "source": [
    "### Сравнение по времени"
   ]
  },
  {
   "cell_type": "code",
   "execution_count": 10,
   "metadata": {},
   "outputs": [
    {
     "name": "stdout",
     "output_type": "stream",
     "text": [
      "889 µs ± 16.4 µs per loop (mean ± std. dev. of 7 runs, 1000 loops each)\n",
      "861 µs ± 2.59 µs per loop (mean ± std. dev. of 7 runs, 1000 loops each)\n",
      "751 µs ± 5.27 µs per loop (mean ± std. dev. of 7 runs, 1000 loops each)\n"
     ]
    }
   ],
   "source": [
    "%timeit binary_search(f1, a, b, epsilon)\n",
    "%timeit golden_search(f1, a, b, epsilon)\n",
    "%timeit fibonacci_search(f1, a, b, epsilon)"
   ]
  },
  {
   "cell_type": "code",
   "execution_count": 11,
   "metadata": {},
   "outputs": [
    {
     "name": "stdout",
     "output_type": "stream",
     "text": [
      "60.5 µs ± 293 ns per loop (mean ± std. dev. of 7 runs, 10000 loops each)\n",
      "170 µs ± 13.2 µs per loop (mean ± std. dev. of 7 runs, 10000 loops each)\n",
      "78.2 µs ± 4.25 µs per loop (mean ± std. dev. of 7 runs, 10000 loops each)\n"
     ]
    }
   ],
   "source": [
    "%timeit binary_search(f2, c, d, epsilon)\n",
    "%timeit golden_search(f2, c, d, epsilon)\n",
    "%timeit fibonacci_search(f2, c, d, epsilon)"
   ]
  },
  {
   "cell_type": "markdown",
   "metadata": {},
   "source": [
    "### Сравнение по числу итераций "
   ]
  },
  {
   "cell_type": "code",
   "execution_count": 12,
   "metadata": {
    "collapsed": true
   },
   "outputs": [],
   "source": [
    "def my_callback(a, b, left_bound, right_bound, approximation):\n",
    "    left_bound.append(a)\n",
    "    right_bound.append(b)\n",
    "    approximation.append((a + b) / 2.0)"
   ]
  },
  {
   "cell_type": "code",
   "execution_count": 13,
   "metadata": {},
   "outputs": [
    {
     "name": "stdout",
     "output_type": "stream",
     "text": [
      "9.81513963438e-08\n"
     ]
    }
   ],
   "source": [
    "left_boud_bs = []\n",
    "right_bound_bs = []\n",
    "approximation_bs = []\n",
    "\n",
    "callback_bs = lambda a, b: my_callback(a, b, \n",
    "            left_boud_bs, right_bound_bs, approximation_bs)\n",
    "\n",
    "x_bs = binary_search(f1, a, b, epsilon, callback_bs)\n",
    "print(np.abs(x_bs - x1_true))"
   ]
  },
  {
   "cell_type": "code",
   "execution_count": 14,
   "metadata": {},
   "outputs": [
    {
     "name": "stdout",
     "output_type": "stream",
     "text": [
      "9.96203119996e-08\n"
     ]
    }
   ],
   "source": [
    "left_boud_gs = []\n",
    "right_bound_gs = []\n",
    "approximation_gs = []\n",
    "\n",
    "callback_gs = lambda a, b: my_callback(a, b, left_boud_gs, right_bound_gs, approximation_gs)\n",
    "x_gs = golden_search(f1, a, b, epsilon, callback_gs)\n",
    "\n",
    "print(np.abs(x_gs - x1_true))"
   ]
  },
  {
   "cell_type": "code",
   "execution_count": 15,
   "metadata": {},
   "outputs": [
    {
     "name": "stdout",
     "output_type": "stream",
     "text": [
      "1.02193368434e-07\n"
     ]
    }
   ],
   "source": [
    "left_boud_fs = []\n",
    "right_bound_fs = []\n",
    "approximation_fs = []\n",
    "\n",
    "callback_fs = lambda a, b: my_callback(a, b, left_boud_fs, right_bound_fs, approximation_fs)\n",
    "x_fs = fibonacci_search(f1, a, b, epsilon, callback_fs)\n",
    "\n",
    "print(np.abs(x_fs - x1_true))"
   ]
  },
  {
   "cell_type": "code",
   "execution_count": 16,
   "metadata": {},
   "outputs": [
    {
     "data": {
      "image/png": "[encoded data removed]",
      "text/plain": [
       "<matplotlib.figure.Figure at 0x7f33bd4c4710>"
      ]
     },
     "metadata": {},
     "output_type": "display_data"
    }
   ],
   "source": [
    "plt.figure(figsize=(8,6))\n",
    "plt.semilogy(np.abs(x1_true - np.array(approximation_bs, dtype=np.float64)), label=\"Binary\")\n",
    "plt.semilogy(np.abs(x1_true - np.array(approximation_gs, dtype=np.float64)), label=\"Golden\")\n",
    "plt.semilogy(np.abs(x1_true - np.array(approximation_fs, dtype=np.float64)), label=\"Fibonacci\")\n",
    "plt.legend(fontsize=16)\n",
    "plt.xticks(fontsize=20)\n",
    "_ = plt.yticks(fontsize=20)"
   ]
  }
 ],
 "metadata": {
  "anaconda-cloud": {},
  "kernelspec": {
   "display_name": "Python 3",
   "language": "python",
   "name": "python3"
  },
  "language_info": {
   "codemirror_mode": {
    "name": "ipython",
    "version": 3
   },
   "file_extension": ".py",
   "mimetype": "text/x-python",
   "name": "python",
   "nbconvert_exporter": "python",
   "pygments_lexer": "ipython3",
   "version": "3.6.3"
  }
 },
 "nbformat": 4,
 "nbformat_minor": 1
}

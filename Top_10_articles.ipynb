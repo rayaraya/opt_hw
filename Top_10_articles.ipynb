{
 "cells": [
  {
   "cell_type": "markdown",
   "metadata": {},
   "source": [
    "### 10 самых важных статей по физике высоких энергий в соответствии с\n",
    "### https://snap.stanford.edu/data/cit-HepTh.html "
   ]
  },
  {
   "cell_type": "code",
   "execution_count": 1,
   "metadata": {},
   "outputs": [],
   "source": [
    "import numpy as np\n",
    "\n",
    "from scipy.sparse import csr_matrix\n",
    "from scipy.sparse import coo_matrix"
   ]
  },
  {
   "cell_type": "code",
   "execution_count": 2,
   "metadata": {},
   "outputs": [],
   "source": [
    "data = np.loadtxt(\"cit-HepTh.txt.gz\", comments=\"#\", unpack=True)"
   ]
  },
  {
   "cell_type": "code",
   "execution_count": 3,
   "metadata": {},
   "outputs": [],
   "source": [
    "from collections import Counter\n",
    "d = 0.85\n",
    "c = Counter(data[0]) #количество ссылок с каждой статьи на другие"
   ]
  },
  {
   "cell_type": "code",
   "execution_count": 4,
   "metadata": {},
   "outputs": [
    {
     "data": {
      "text/plain": [
       "4590"
      ]
     },
     "execution_count": 4,
     "metadata": {},
     "output_type": "execute_result"
    }
   ],
   "source": [
    "a = set(data[0]) #смотрим есть ли различные элементы в множествах ссылающихся и на тех что ссылаются\n",
    "b = set(data[1]) #и да, они есть\n",
    "len(a.difference(b))"
   ]
  },
  {
   "cell_type": "code",
   "execution_count": 5,
   "metadata": {},
   "outputs": [],
   "source": [
    "all_papers  = np.array(list(a.union(b))) #теперь каждой статье соответсвует индекс в этом массиве"
   ]
  },
  {
   "cell_type": "code",
   "execution_count": 6,
   "metadata": {},
   "outputs": [],
   "source": [
    "val = [] #подготовим данные для заполнения разреженной матрицы в координатном формате записи\n",
    "row = []\n",
    "col = []\n",
    "\n",
    "for i in range(len(data[0])):\n",
    "    ind_row, = np.where(all_papers == data[0][i])\n",
    "    ind_col, = np.where(all_papers == data[1][i])\n",
    "    row.append(ind_row)\n",
    "    col.append(ind_col)\n",
    "    val.append(1./c[data[0][i]]) #кладем значение равное 1/(общее кол-во ссылок с этой страницы), если есть ссылка\n",
    "    \n",
    "val = np.array(val)\n",
    "row = np.reshape(np.array(row), len(row))\n",
    "col = np.reshape(np.array(col), len(col))\n",
    "\n",
    "size = len(all_papers) #размер матрицы определяется и также статьями из которых нет ссылок"
   ]
  },
  {
   "cell_type": "code",
   "execution_count": 7,
   "metadata": {},
   "outputs": [],
   "source": [
    "matrix = coo_matrix((val, (row, col)), shape=(size, size))\n",
    "\n",
    "A = matrix.tocsr() #матрица в разреженном строчном формате\n",
    "\n",
    "l = np.array([1 for i in range(size)]) #единичный вектор"
   ]
  },
  {
   "cell_type": "code",
   "execution_count": 8,
   "metadata": {},
   "outputs": [
    {
     "data": {
      "text/plain": [
       "array([ 0.34650674,  0.43155093,  0.17431701, ...,  0.459899  ,\n",
       "        0.38902883,  0.45175175])"
      ]
     },
     "execution_count": 8,
     "metadata": {},
     "output_type": "execute_result"
    }
   ],
   "source": [
    "#итеративно ищем результат (можно проверить, что на size-1 шаге значения совпадают с значениями на шаге size)\n",
    "PR = l\n",
    "for i in range(size):\n",
    "    PR = A.dot(PR)* d + l * (1-d) \n",
    "    PR = PR * size / np.sum(PR)\n",
    "PR"
   ]
  },
  {
   "cell_type": "code",
   "execution_count": 9,
   "metadata": {},
   "outputs": [
    {
     "data": {
      "text/plain": [
       "[9308141.0,\n",
       " 9301082.0,\n",
       " 9307086.0,\n",
       " 9308150.0,\n",
       " 10273.0,\n",
       " 6187.0,\n",
       " 205224.0,\n",
       " 9404069.0,\n",
       " 9404072.0,\n",
       " 9201015.0]"
      ]
     },
     "execution_count": 9,
     "metadata": {},
     "output_type": "execute_result"
    }
   ],
   "source": [
    "ind_max = PR.argsort()[-10:][::-1] #индексы максимальных значений PR\n",
    "max_papers = [all_papers[i] for i in ind_max]\n",
    "max_papers #вообще вышло 12 максимальных совпадающих значений PR"
   ]
  }
 ],
 "metadata": {
  "kernelspec": {
   "display_name": "Python 2",
   "language": "python",
   "name": "python2"
  },
  "language_info": {
   "codemirror_mode": {
    "name": "ipython",
    "version": 2
   },
   "file_extension": ".py",
   "mimetype": "text/x-python",
   "name": "python",
   "nbconvert_exporter": "python",
   "pygments_lexer": "ipython2",
   "version": "2.7.12"
  }
 },
 "nbformat": 4,
 "nbformat_minor": 2
}
